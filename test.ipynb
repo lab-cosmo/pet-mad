{
 "cells": [
  {
   "cell_type": "code",
   "execution_count": 1,
   "metadata": {},
   "outputs": [],
   "source": [
    "from pet_mad.calculator import PETMADCalculator\n",
    "import ase\n",
    "from ase.io import read\n",
    "import numpy as np\n",
    "import matplotlib.pyplot as plt"
   ]
  },
  {
   "cell_type": "code",
   "execution_count": 2,
   "metadata": {},
   "outputs": [],
   "source": [
    "from metatomic.torch import AtomisticModel, ModelMetadata"
   ]
  },
  {
   "cell_type": "code",
   "execution_count": 10,
   "metadata": {},
   "outputs": [],
   "source": [
    "import torch"
   ]
  },
  {
   "cell_type": "code",
   "execution_count": 18,
   "metadata": {},
   "outputs": [],
   "source": [
    "checkpoint = torch.load('../huggingface/pet-mad/models/pet-mad-latest.ckpt', weights_only=False, map_location='cpu')"
   ]
  },
  {
   "cell_type": "code",
   "execution_count": null,
   "metadata": {},
   "outputs": [],
   "source": [
    "checkpoint['metadata'] = ModelMetadata(\n",
    "        name=\"PET-MAD\",\n",
    "        description=\"A universal interatomic potential for advanced materials modeling\",\n",
    "        authors=[\n",
    "            \"Arslan Mazitov (arslan.mazitov@epfl.ch)\",\n",
    "            \"Filippo Bigi\",\n",
    "            \"Matthias Kellner\",\n",
    "            \"Paolo Pegolo\",\n",
    "            \"Davide Tisi\",\n",
    "            \"Guillaume Fraux\",\n",
    "            \"Sergey Pozdnyakov\",\n",
    "            \"Philip Loche\",\n",
    "            \"Michele Ceriotti (michele.ceriotti@epfl.ch)\",\n",
    "        ],\n",
    "        references={\n",
    "            \"architecture\": [\n",
    "                \"https://arxiv.org/abs/2305.19302v3\",\n",
    "                \"LLPR (uncertainty method): https://iopscience.iop.org/article/10.1088/2632-2153/ad805f\",  # noqa: E501\n",
    "                \"LPR (if using per-atom uncertainty): https://pubs.acs.org/doi/10.1021/acs.jctc.3c00704\",  # noqa: E501\n",
    "                ],\n",
    "            \"model\": [\"http://arxiv.org/abs/2503.14118\"],\n",
    "        },\n",
    "    )"
   ]
  },
  {
   "cell_type": "code",
   "execution_count": 17,
   "metadata": {},
   "outputs": [],
   "source": [
    "torch.save(checkpoint, '../huggingface/pet-mad/models/pet-mad-latest.ckpt')"
   ]
  },
  {
   "cell_type": "code",
   "execution_count": 3,
   "metadata": {},
   "outputs": [],
   "source": [
    "METADATA = ModelMetadata(\n",
    "    name=\"PET-MAD\",\n",
    "    \n",
    "    description=\"A universal interatomic potential for advanced materials modeling\",\n",
    "    authors=[\n",
    "        \"Arslan Mazitov (arslan.mazitov@epfl.ch)\",\n",
    "        \"Filippo Bigi\",\n",
    "        \"Matthias Kellner\",\n",
    "        \"Paolo Pegolo\",\n",
    "        \"Davide Tisi\",\n",
    "        \"Guillaume Fraux\",\n",
    "        \"Sergey Pozdnyakov\",\n",
    "        \"Philip Loche\",\n",
    "        \"Michele Ceriotti (michele.ceriotti@epfl.ch)\",\n",
    "    ],\n",
    "    references={\n",
    "        \"architecture\": [\"https://arxiv.org/abs/2305.19302v3\"],\n",
    "        \"model\": [\"http://arxiv.org/abs/2503.14118\"],\n",
    "    },\n",
    ")"
   ]
  },
  {
   "cell_type": "code",
   "execution_count": 8,
   "metadata": {},
   "outputs": [],
   "source": [
    "from copy import deepcopy"
   ]
  },
  {
   "cell_type": "code",
   "execution_count": 9,
   "metadata": {},
   "outputs": [
    {
     "data": {
      "text/plain": [
       "This is the PET-MAD model\n",
       "=========================\n",
       "\n",
       "A universal interatomic potential for advanced materials modeling\n",
       "\n",
       "Model authors\n",
       "-------------\n",
       "\n",
       "- Arslan Mazitov (arslan.mazitov@epfl.ch)\n",
       "- Filippo Bigi\n",
       "- Matthias Kellner\n",
       "- Paolo Pegolo\n",
       "- Davide Tisi\n",
       "- Guillaume Fraux\n",
       "- Sergey Pozdnyakov\n",
       "- Philip Loche\n",
       "- Michele Ceriotti (michele.ceriotti@epfl.ch)\n",
       "\n",
       "Model references\n",
       "----------------\n",
       "\n",
       "Please cite the following references when using this model:\n",
       "- about this specific model:\n",
       "  * http://arxiv.org/abs/2503.14118\n",
       "- about the architecture of this model:\n",
       "  * https://arxiv.org/abs/2305.19302v3"
      ]
     },
     "execution_count": 9,
     "metadata": {},
     "output_type": "execute_result"
    }
   ],
   "source": [
    "deepcopy(METADATA)"
   ]
  },
  {
   "cell_type": "code",
   "execution_count": 80,
   "metadata": {},
   "outputs": [
    {
     "name": "stderr",
     "output_type": "stream",
     "text": [
      "WARNING:metatomic.torch.ase_calculator:the model suggested to use CUDA devices before CPU, but we are unable to find it\n"
     ]
    }
   ],
   "source": [
    "calc_llpr = PETMADCalculator(checkpoint_path='/Users/arslanmazitov/projects/huggingface/pet-mad/models/pet-mad-latest.ckpt', calculate_uncertainty=True, calculate_ensemble=True)"
   ]
  },
  {
   "cell_type": "code",
   "execution_count": 85,
   "metadata": {},
   "outputs": [
    {
     "data": {
      "text/plain": [
       "''"
      ]
     },
     "execution_count": 85,
     "metadata": {},
     "output_type": "execute_result"
    }
   ],
   "source": [
    "calc_llpr._model.metadata().name"
   ]
  },
  {
   "cell_type": "code",
   "execution_count": 61,
   "metadata": {},
   "outputs": [],
   "source": [
    "from metatomic.torch import AtomisticModel, ModelMetadata"
   ]
  },
  {
   "cell_type": "code",
   "execution_count": 62,
   "metadata": {},
   "outputs": [],
   "source": [
    "METADATA = ModelMetadata(\n",
    "    name=\"PET-MAD\",\n",
    "    \n",
    "    description=\"A universal interatomic potential for advanced materials modeling\",\n",
    "    authors=[\n",
    "        \"Arslan Mazitov (arslan.mazitov@epfl.ch)\",\n",
    "        \"Filippo Bigi\",\n",
    "        \"Matthias Kellner\",\n",
    "        \"Paolo Pegolo\",\n",
    "        \"Davide Tisi\",\n",
    "        \"Guillaume Fraux\",\n",
    "        \"Sergey Pozdnyakov\",\n",
    "        \"Philip Loche\",\n",
    "        \"Michele Ceriotti (michele.ceriotti@epfl.ch)\",\n",
    "    ],\n",
    "    references={\n",
    "        \"architecture\": [\"https://arxiv.org/abs/2305.19302v3\"],\n",
    "        \"model\": [\"http://arxiv.org/abs/2503.14118\"],\n",
    "    },\n",
    ")"
   ]
  },
  {
   "cell_type": "code",
   "execution_count": 43,
   "metadata": {},
   "outputs": [],
   "source": [
    "dimers = read(\"/Users/arslanmazitov/Downloads/dimers.xyz\", index=\":\")\n",
    "\n",
    "dimer_curves = {}\n",
    "for dimer in dimers:\n",
    "    element = dimer.symbols[0]\n",
    "    if element not in dimer_curves:\n",
    "        dimer_curves[element] = []\n",
    "    distance = dimer.info['distance']\n",
    "    energy = dimer.get_potential_energy()\n",
    "    calc_llpr.reset()\n",
    "    dimer.calc = calc_llpr\n",
    "    pet_mad_energy = dimer.get_potential_energy()\n",
    "    energy_uncertainty = dimer.calc.get_energy_uncertainty()\n",
    "    dimer_curves[element].append([distance, energy, pet_mad_energy, energy_uncertainty])"
   ]
  },
  {
   "cell_type": "code",
   "execution_count": 56,
   "metadata": {},
   "outputs": [
    {
     "data": {
      "text/plain": [
       "array(0.39571226, dtype=float32)"
      ]
     },
     "execution_count": 56,
     "metadata": {},
     "output_type": "execute_result"
    }
   ],
   "source": [
    "energy_uncertainty"
   ]
  },
  {
   "cell_type": "code",
   "execution_count": 60,
   "metadata": {},
   "outputs": [
    {
     "data": {
      "image/png": "[encoded data removed]",
      "text/plain": [
       "<Figure size 640x480 with 1 Axes>"
      ]
     },
     "metadata": {},
     "output_type": "display_data"
    }
   ],
   "source": [
    "element = 'Na'\n",
    "dc = np.array(sorted(dimer_curves[element], key=lambda x: x[0]))\n",
    "\n",
    "plt.plot(dc[:, 0], dc[:, 1], 'o-', label='DFT')\n",
    "plt.plot(dc[:, 0], dc[:, 2], 'o-', label='PET-MAD 1.2.0')\n",
    "plt.fill_between(dc[:, 0], dc[:, 2] - dc[:, 3], dc[:, 2] + dc[:, 3], alpha=0.2)\n",
    "plt.axhline(y=0.0, color='black', linestyle='--', alpha=0.5)\n",
    "plt.xlabel('Distance (Å)')\n",
    "plt.ylabel('Energy (eV)')\n",
    "plt.title(f'{element} dimer curve')\n",
    "plt.legend()\n",
    "plt.show()"
   ]
  },
  {
   "cell_type": "code",
   "execution_count": 72,
   "metadata": {},
   "outputs": [],
   "source": [
    "from packaging.version import Version, InvalidVersion"
   ]
  },
  {
   "cell_type": "code",
   "execution_count": 75,
   "metadata": {},
   "outputs": [
    {
     "data": {
      "text/plain": [
       "True"
      ]
     },
     "execution_count": 75,
     "metadata": {},
     "output_type": "execute_result"
    }
   ],
   "source": [
    "a = Version('1.2.0-rc2')\n",
    "b = Version('1.1.9-rc1')\n",
    "\n",
    "a > b"
   ]
  },
  {
   "cell_type": "code",
   "execution_count": 77,
   "metadata": {},
   "outputs": [],
   "source": [
    "v = Version('1.0.0') "
   ]
  },
  {
   "cell_type": "code",
   "execution_count": 79,
   "metadata": {},
   "outputs": [],
   "source": [
    "AVAILABLE_VERSIONS = [Version(v) for v in (\"1.2.0rc1\", \"1.1.0\", \"1.0.1\", \"1.0.0\")]"
   ]
  },
  {
   "cell_type": "code",
   "execution_count": null,
   "metadata": {},
   "outputs": [],
   "source": []
  },
  {
   "cell_type": "code",
   "execution_count": 78,
   "metadata": {},
   "outputs": [
    {
     "name": "stdout",
     "output_type": "stream",
     "text": [
      "1.0.0\n"
     ]
    }
   ],
   "source": [
    "print(v)"
   ]
  },
  {
   "cell_type": "code",
   "execution_count": 71,
   "metadata": {},
   "outputs": [
    {
     "data": {
      "text/plain": [
       "True"
      ]
     },
     "execution_count": 71,
     "metadata": {},
     "output_type": "execute_result"
    }
   ],
   "source": [
    "a > b"
   ]
  },
  {
   "cell_type": "code",
   "execution_count": null,
   "metadata": {},
   "outputs": [],
   "source": []
  }
 ],
 "metadata": {
  "kernelspec": {
   "display_name": "pet-mad",
   "language": "python",
   "name": "python3"
  },
  "language_info": {
   "codemirror_mode": {
    "name": "ipython",
    "version": 3
   },
   "file_extension": ".py",
   "mimetype": "text/x-python",
   "name": "python",
   "nbconvert_exporter": "python",
   "pygments_lexer": "ipython3",
   "version": "3.11.12"
  }
 },
 "nbformat": 4,
 "nbformat_minor": 2
}
